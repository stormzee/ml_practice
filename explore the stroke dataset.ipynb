{
 "cells": [
  {
   "cell_type": "markdown",
   "id": "43235a2f",
   "metadata": {},
   "source": [
    "## Please read the instructions and complete the exercises that follow;\n",
    "### In this repository, there is a file namely `stroke_dataset` for you to work on"
   ]
  },
  {
   "cell_type": "markdown",
   "id": "8093f22c",
   "metadata": {},
   "source": [
    "#### exercise 1: Read the dataset file as a pandas dataframe.\n",
    "#### `Hint`: Use the `read_csv()` function in pandas"
   ]
  },
  {
   "cell_type": "code",
   "execution_count": null,
   "id": "f14f5428",
   "metadata": {},
   "outputs": [],
   "source": []
  },
  {
   "cell_type": "markdown",
   "id": "a9eff948",
   "metadata": {},
   "source": [
    "### What is the size of the dataset?\n",
    "### (a) how many columns ...\n",
    "### (b) how many rows ...\n",
    "\n",
    "#### `Hint`: Use the `shape` function in pandas"
   ]
  },
  {
   "cell_type": "code",
   "execution_count": null,
   "id": "9c4f3e32",
   "metadata": {},
   "outputs": [],
   "source": []
  },
  {
   "cell_type": "markdown",
   "id": "ff32ef4f",
   "metadata": {},
   "source": [
    "### Display the data types (e.g., int, object, str, date, datetime etc) of the stroke_dataset\n",
    "\n",
    "#### `Hint`: Use the `dtypes` function in pandas"
   ]
  },
  {
   "cell_type": "code",
   "execution_count": null,
   "id": "5ba8d242",
   "metadata": {},
   "outputs": [],
   "source": []
  },
  {
   "cell_type": "markdown",
   "id": "dc7c8c84",
   "metadata": {},
   "source": [
    "### Display the `gender` column"
   ]
  },
  {
   "cell_type": "code",
   "execution_count": null,
   "id": "04831ebe",
   "metadata": {},
   "outputs": [],
   "source": []
  },
  {
   "cell_type": "markdown",
   "id": "03894385",
   "metadata": {},
   "source": [
    "### In the `gender` column, there are males and females; How many \n",
    "#### (a) males are in the dataset ...\n",
    "#### (b) females are in the dataset ...\n",
    "\n",
    "#### `Hint`: Use the `value_counts()` function in pandas"
   ]
  },
  {
   "cell_type": "code",
   "execution_count": null,
   "id": "06ed7f9b",
   "metadata": {},
   "outputs": [],
   "source": []
  },
  {
   "cell_type": "markdown",
   "id": "eb67f6dc",
   "metadata": {},
   "source": [
    "### How many people have married?\n",
    "\n",
    "#### `Hint`: Look at the `ever_married` column to get those who have married before"
   ]
  },
  {
   "cell_type": "code",
   "execution_count": null,
   "id": "e95cbe10",
   "metadata": {},
   "outputs": [],
   "source": []
  },
  {
   "cell_type": "markdown",
   "id": "aae729b2",
   "metadata": {},
   "source": [
    "### Display the `worktype` column"
   ]
  },
  {
   "cell_type": "code",
   "execution_count": null,
   "id": "294f066d",
   "metadata": {},
   "outputs": [],
   "source": []
  },
  {
   "cell_type": "markdown",
   "id": "b097c882",
   "metadata": {},
   "source": [
    "### Display the `age` column"
   ]
  },
  {
   "cell_type": "code",
   "execution_count": null,
   "id": "51a8d266",
   "metadata": {},
   "outputs": [],
   "source": []
  },
  {
   "cell_type": "markdown",
   "id": "db180d03",
   "metadata": {},
   "source": [
    "### Display the `Residence_type` column"
   ]
  },
  {
   "cell_type": "code",
   "execution_count": null,
   "id": "8f632263",
   "metadata": {},
   "outputs": [],
   "source": []
  },
  {
   "cell_type": "markdown",
   "id": "359bd5e6",
   "metadata": {},
   "source": []
  }
 ],
 "metadata": {
  "kernelspec": {
   "display_name": "Python 3 (ipykernel)",
   "language": "python",
   "name": "python3"
  },
  "language_info": {
   "codemirror_mode": {
    "name": "ipython",
    "version": 3
   },
   "file_extension": ".py",
   "mimetype": "text/x-python",
   "name": "python",
   "nbconvert_exporter": "python",
   "pygments_lexer": "ipython3",
   "version": "3.9.12"
  }
 },
 "nbformat": 4,
 "nbformat_minor": 5
}
